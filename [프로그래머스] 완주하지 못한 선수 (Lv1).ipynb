{
 "cells": [
  {
   "cell_type": "markdown",
   "metadata": {},
   "source": [
    "### 해시 > 완주하지 못한 선수 (Level 1)\n",
    "문제 : https://programmers.co.kr/learn/courses/30/lessons/42576"
   ]
  },
  {
   "cell_type": "code",
   "execution_count": 2,
   "metadata": {},
   "outputs": [],
   "source": [
    "def solution_notComplete(participant, completion):\n",
    "    participant.sort()\n",
    "    completion.sort()\n",
    "    answer = ''\n",
    "    \n",
    "    for i in range(len(participant)):\n",
    "        if i == len(participant) - 1:\n",
    "            answer = participant[i]\n",
    "            break\n",
    "            \n",
    "        if participant[i] != completion[i]:\n",
    "            answer = participant[i]\n",
    "            break\n",
    "    \n",
    "    return answer"
   ]
  },
  {
   "cell_type": "code",
   "execution_count": 5,
   "metadata": {},
   "outputs": [
    {
     "data": {
      "text/plain": [
       "'leo'"
      ]
     },
     "execution_count": 5,
     "metadata": {},
     "output_type": "execute_result"
    }
   ],
   "source": [
    "# 입출력 테스트\n",
    "participant = ['leo', 'kiki', 'eden']\n",
    "completion = ['eden', 'kiki']\n",
    "solution_notComplete(participant, completion)"
   ]
  },
  {
   "cell_type": "markdown",
   "metadata": {},
   "source": [
    "#### 문제 리뷰\n",
    "     - 참가자 중 단 한명만 마라톤에 완주하지 못했기 때문에, 참가자와 완주자는 한명 차이\n",
    "     - 두 리스트를 정렬시키면 같은 순서로 정렬되므로 참가자 리스트에는 있으나,\n",
    "       완주자 리스트에는 존재하지 않으면 해당 참가자가 완주하지 못한 선수이다.\n",
    "     - 따라서 참가자 리스트를 기준으로 비교하여 같은 인덱스의 값이 일치하지 않았을 때를\n",
    "       찾아내면 된다. 또한, 마지막까지 추출되지 않으면 완주자 리스트에는 비교대상이\n",
    "       더이상 없기 때문에 해당 참가자가 완주하지 못한 것으로 간주하면 된다."
   ]
  }
 ],
 "metadata": {
  "kernelspec": {
   "display_name": "Python 3",
   "language": "python",
   "name": "python3"
  },
  "language_info": {
   "codemirror_mode": {
    "name": "ipython",
    "version": 3
   },
   "file_extension": ".py",
   "mimetype": "text/x-python",
   "name": "python",
   "nbconvert_exporter": "python",
   "pygments_lexer": "ipython3",
   "version": "3.7.6"
  }
 },
 "nbformat": 4,
 "nbformat_minor": 4
}
